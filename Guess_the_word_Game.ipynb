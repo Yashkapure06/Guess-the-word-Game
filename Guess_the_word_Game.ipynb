import random

name = input("What is your name? ")

print(f"Hey, {name} Good Luck!!!, Hope you Do well")


word = ['rainbow', 'computer', 'science', 'programming', 
		'python', 'mathematics', 'player', 'condition', 
		'reverse', 'water', 'board', 'geeks', 'apple', 'magic']

word = random.choice(word)

print("Guess the character")
print(f"Total number of characters in a word are {len(word)}")

guess = ' '
turns = 3

while turns > 0:
    failed = 0

    for char in word:
        
        if char in guess:
            print(char)
        
        else:
            print("*")

            failed += 1

    if failed == 0:

        print(f"{name} You Win!!")
        print(f"The word is {word}")
        break
     
    guess = input("Guess a character: ")

    guess += guess

    if guess not in word:
        turns-= 1
        print("Sorry you are Wrong!")
        print(f"You have {turns} more guesses")
        if turns == 0:
            print("You Lose")